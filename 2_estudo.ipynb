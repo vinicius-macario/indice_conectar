{
 "cells": [
  {
   "cell_type": "code",
   "execution_count": 12,
   "metadata": {},
   "outputs": [],
   "source": [
    "import pandas as pd\n",
    "import numpy as np\n",
    "pd.options.display.float_format = '{:,.2f}'.format"
   ]
  },
  {
   "cell_type": "code",
   "execution_count": 13,
   "metadata": {},
   "outputs": [],
   "source": [
    "base = pd.read_excel(r'E:\\Documentos\\bases\\indice_conectar\\indicador_conectar_JAN-2022.xlsx', dtype={'COD': str})\n",
    "base = base[['COD', 'UF', 'NOME DO MUNICÍPIO', 'pop_2020', 'População_IC']]"
   ]
  },
  {
   "cell_type": "code",
   "execution_count": 14,
   "metadata": {},
   "outputs": [],
   "source": [
    "adm = pd.read_excel(r'E:\\Documentos\\bases\\cadastro\\Controle 2021 - Definitiva.xlsx', dtype={'COD IBGE': str})"
   ]
  },
  {
   "cell_type": "code",
   "execution_count": 15,
   "metadata": {},
   "outputs": [],
   "source": [
    "base_a = pd.merge(base, adm[['COD IBGE', 'STATUS', 'PGTO 2021', 'VALOR ANUAL']], left_on='COD', right_on='COD IBGE')"
   ]
  },
  {
   "cell_type": "code",
   "execution_count": 39,
   "metadata": {},
   "outputs": [],
   "source": [
    "base_a.to_excel('estudo_2.xlsx', index=False)"
   ]
  },
  {
   "cell_type": "code",
   "execution_count": 16,
   "metadata": {},
   "outputs": [],
   "source": [
    "base_a = base_a.replace(np.nan, 'Não')\n",
    "base_a = base_a.replace('X', 'Sim')"
   ]
  },
  {
   "cell_type": "code",
   "execution_count": 17,
   "metadata": {},
   "outputs": [
    {
     "data": {
      "text/plain": [
       "Não    1944\n",
       "Sim     190\n",
       "Name: PGTO 2021, dtype: int64"
      ]
     },
     "execution_count": 17,
     "metadata": {},
     "output_type": "execute_result"
    }
   ],
   "source": [
    "base_a['PGTO 2021'].value_counts()"
   ]
  },
  {
   "cell_type": "code",
   "execution_count": 18,
   "metadata": {},
   "outputs": [
    {
     "data": {
      "text/html": [
       "<div>\n",
       "<style scoped>\n",
       "    .dataframe tbody tr th:only-of-type {\n",
       "        vertical-align: middle;\n",
       "    }\n",
       "\n",
       "    .dataframe tbody tr th {\n",
       "        vertical-align: top;\n",
       "    }\n",
       "\n",
       "    .dataframe thead th {\n",
       "        text-align: right;\n",
       "    }\n",
       "</style>\n",
       "<table border=\"1\" class=\"dataframe\">\n",
       "  <thead>\n",
       "    <tr style=\"text-align: right;\">\n",
       "      <th></th>\n",
       "      <th>COD</th>\n",
       "      <th>UF</th>\n",
       "      <th>NOME DO MUNICÍPIO</th>\n",
       "      <th>pop_2020</th>\n",
       "      <th>População_IC</th>\n",
       "      <th>COD IBGE</th>\n",
       "      <th>STATUS</th>\n",
       "      <th>PGTO 2021</th>\n",
       "      <th>VALOR ANUAL</th>\n",
       "    </tr>\n",
       "  </thead>\n",
       "  <tbody>\n",
       "    <tr>\n",
       "      <th>0</th>\n",
       "      <td>1100023</td>\n",
       "      <td>RO</td>\n",
       "      <td>Ariquemes</td>\n",
       "      <td>109523</td>\n",
       "      <td>339,017.52</td>\n",
       "      <td>1100023</td>\n",
       "      <td>PARTICIPANTE</td>\n",
       "      <td>Não</td>\n",
       "      <td>7,400.04</td>\n",
       "    </tr>\n",
       "    <tr>\n",
       "      <th>1</th>\n",
       "      <td>1100106</td>\n",
       "      <td>RO</td>\n",
       "      <td>Guajará-Mirim</td>\n",
       "      <td>46556</td>\n",
       "      <td>155,215.12</td>\n",
       "      <td>1100106</td>\n",
       "      <td>PARTICIPANTE</td>\n",
       "      <td>Não</td>\n",
       "      <td>6,699.96</td>\n",
       "    </tr>\n",
       "    <tr>\n",
       "      <th>2</th>\n",
       "      <td>1100122</td>\n",
       "      <td>RO</td>\n",
       "      <td>Ji-Paraná</td>\n",
       "      <td>130009</td>\n",
       "      <td>470,348.40</td>\n",
       "      <td>1100122</td>\n",
       "      <td>PARTICIPANTE</td>\n",
       "      <td>Não</td>\n",
       "      <td>7,749.96</td>\n",
       "    </tr>\n",
       "    <tr>\n",
       "      <th>3</th>\n",
       "      <td>1100205</td>\n",
       "      <td>RO</td>\n",
       "      <td>Porto Velho</td>\n",
       "      <td>539354</td>\n",
       "      <td>1,389,425.15</td>\n",
       "      <td>1100205</td>\n",
       "      <td>PARTICIPANTE</td>\n",
       "      <td>Não</td>\n",
       "      <td>15,900.00</td>\n",
       "    </tr>\n",
       "    <tr>\n",
       "      <th>4</th>\n",
       "      <td>1100940</td>\n",
       "      <td>RO</td>\n",
       "      <td>Cujubim</td>\n",
       "      <td>26183</td>\n",
       "      <td>90,329.81</td>\n",
       "      <td>1100940</td>\n",
       "      <td>DESISTENTE</td>\n",
       "      <td>Não</td>\n",
       "      <td>6,350.04</td>\n",
       "    </tr>\n",
       "    <tr>\n",
       "      <th>...</th>\n",
       "      <td>...</td>\n",
       "      <td>...</td>\n",
       "      <td>...</td>\n",
       "      <td>...</td>\n",
       "      <td>...</td>\n",
       "      <td>...</td>\n",
       "      <td>...</td>\n",
       "      <td>...</td>\n",
       "      <td>...</td>\n",
       "    </tr>\n",
       "    <tr>\n",
       "      <th>2129</th>\n",
       "      <td>5220058</td>\n",
       "      <td>GO</td>\n",
       "      <td>São João da Paraúna</td>\n",
       "      <td>1345</td>\n",
       "      <td>2,057.77</td>\n",
       "      <td>5220058</td>\n",
       "      <td>PARTICIPANTE</td>\n",
       "      <td>Não</td>\n",
       "      <td>6,000.00</td>\n",
       "    </tr>\n",
       "    <tr>\n",
       "      <th>2130</th>\n",
       "      <td>5220108</td>\n",
       "      <td>GO</td>\n",
       "      <td>São Luís de Montes Belos</td>\n",
       "      <td>34157</td>\n",
       "      <td>98,334.56</td>\n",
       "      <td>5220108</td>\n",
       "      <td>PARTICIPANTE</td>\n",
       "      <td>Não</td>\n",
       "      <td>6,399.96</td>\n",
       "    </tr>\n",
       "    <tr>\n",
       "      <th>2131</th>\n",
       "      <td>5220157</td>\n",
       "      <td>GO</td>\n",
       "      <td>São Luiz do Norte</td>\n",
       "      <td>5215</td>\n",
       "      <td>11,686.27</td>\n",
       "      <td>5220157</td>\n",
       "      <td>PARTICIPANTE</td>\n",
       "      <td>Não</td>\n",
       "      <td>6,000.00</td>\n",
       "    </tr>\n",
       "    <tr>\n",
       "      <th>2132</th>\n",
       "      <td>5221403</td>\n",
       "      <td>GO</td>\n",
       "      <td>Trindade</td>\n",
       "      <td>129823</td>\n",
       "      <td>438,665.32</td>\n",
       "      <td>5221403</td>\n",
       "      <td>PARTICIPANTE</td>\n",
       "      <td>Não</td>\n",
       "      <td>7,749.96</td>\n",
       "    </tr>\n",
       "    <tr>\n",
       "      <th>2133</th>\n",
       "      <td>5221502</td>\n",
       "      <td>GO</td>\n",
       "      <td>Turvânia</td>\n",
       "      <td>4564</td>\n",
       "      <td>9,946.28</td>\n",
       "      <td>5221502</td>\n",
       "      <td>PARTICIPANTE</td>\n",
       "      <td>Não</td>\n",
       "      <td>6,000.00</td>\n",
       "    </tr>\n",
       "  </tbody>\n",
       "</table>\n",
       "<p>2134 rows × 9 columns</p>\n",
       "</div>"
      ],
      "text/plain": [
       "          COD  UF         NOME DO MUNICÍPIO  pop_2020  População_IC COD IBGE  \\\n",
       "0     1100023  RO                 Ariquemes    109523    339,017.52  1100023   \n",
       "1     1100106  RO             Guajará-Mirim     46556    155,215.12  1100106   \n",
       "2     1100122  RO                 Ji-Paraná    130009    470,348.40  1100122   \n",
       "3     1100205  RO               Porto Velho    539354  1,389,425.15  1100205   \n",
       "4     1100940  RO                   Cujubim     26183     90,329.81  1100940   \n",
       "...       ...  ..                       ...       ...           ...      ...   \n",
       "2129  5220058  GO       São João da Paraúna      1345      2,057.77  5220058   \n",
       "2130  5220108  GO  São Luís de Montes Belos     34157     98,334.56  5220108   \n",
       "2131  5220157  GO         São Luiz do Norte      5215     11,686.27  5220157   \n",
       "2132  5221403  GO                  Trindade    129823    438,665.32  5221403   \n",
       "2133  5221502  GO                  Turvânia      4564      9,946.28  5221502   \n",
       "\n",
       "            STATUS PGTO 2021  VALOR ANUAL  \n",
       "0     PARTICIPANTE       Não     7,400.04  \n",
       "1     PARTICIPANTE       Não     6,699.96  \n",
       "2     PARTICIPANTE       Não     7,749.96  \n",
       "3     PARTICIPANTE       Não    15,900.00  \n",
       "4       DESISTENTE       Não     6,350.04  \n",
       "...            ...       ...          ...  \n",
       "2129  PARTICIPANTE       Não     6,000.00  \n",
       "2130  PARTICIPANTE       Não     6,399.96  \n",
       "2131  PARTICIPANTE       Não     6,000.00  \n",
       "2132  PARTICIPANTE       Não     7,749.96  \n",
       "2133  PARTICIPANTE       Não     6,000.00  \n",
       "\n",
       "[2134 rows x 9 columns]"
      ]
     },
     "execution_count": 18,
     "metadata": {},
     "output_type": "execute_result"
    }
   ],
   "source": [
    "base_a"
   ]
  },
  {
   "cell_type": "code",
   "execution_count": 19,
   "metadata": {},
   "outputs": [],
   "source": [
    "custo_anual_pagante = base_a[base_a['PGTO 2021'] == 'Sim']['VALOR ANUAL'].sum()"
   ]
  },
  {
   "cell_type": "code",
   "execution_count": 20,
   "metadata": {},
   "outputs": [
    {
     "data": {
      "text/plain": [
       "1633749.6"
      ]
     },
     "execution_count": 20,
     "metadata": {},
     "output_type": "execute_result"
    }
   ],
   "source": [
    "custo_anual_pagante"
   ]
  },
  {
   "cell_type": "code",
   "execution_count": 23,
   "metadata": {},
   "outputs": [],
   "source": [
    "doacao_total = 4000000"
   ]
  },
  {
   "cell_type": "code",
   "execution_count": 24,
   "metadata": {},
   "outputs": [
    {
     "data": {
      "text/plain": [
       "2366250.4"
      ]
     },
     "execution_count": 24,
     "metadata": {},
     "output_type": "execute_result"
    }
   ],
   "source": [
    "restante_1 = doacao_total - custo_anual_pagante\n",
    "restante_1"
   ]
  },
  {
   "cell_type": "code",
   "execution_count": 33,
   "metadata": {},
   "outputs": [
    {
     "data": {
      "text/plain": [
       "7758000.0"
      ]
     },
     "execution_count": 33,
     "metadata": {},
     "output_type": "execute_result"
    }
   ],
   "source": [
    "custo_total_pequenos = base_a[(base_a['VALOR ANUAL'] == 6000) & (base_a['PGTO 2021'] == 'Não')]['VALOR ANUAL'].sum()\n",
    "custo_total_pequenos"
   ]
  },
  {
   "cell_type": "code",
   "execution_count": 37,
   "metadata": {},
   "outputs": [
    {
     "data": {
      "text/plain": [
       "1200000"
      ]
     },
     "execution_count": 37,
     "metadata": {},
     "output_type": "execute_result"
    }
   ],
   "source": [
    "custo_200_pequenos = 200 * 6000\n",
    "custo_200_pequenos"
   ]
  },
  {
   "cell_type": "code",
   "execution_count": 38,
   "metadata": {},
   "outputs": [
    {
     "data": {
      "text/plain": [
       "600000"
      ]
     },
     "execution_count": 38,
     "metadata": {},
     "output_type": "execute_result"
    }
   ],
   "source": [
    "custo_100_pequenos = 100 * 6000\n",
    "custo_100_pequenos"
   ]
  },
  {
   "cell_type": "code",
   "execution_count": null,
   "metadata": {},
   "outputs": [],
   "source": []
  }
 ],
 "metadata": {
  "kernelspec": {
   "display_name": "Python 3",
   "language": "python",
   "name": "python3"
  },
  "language_info": {
   "codemirror_mode": {
    "name": "ipython",
    "version": 3
   },
   "file_extension": ".py",
   "mimetype": "text/x-python",
   "name": "python",
   "nbconvert_exporter": "python",
   "pygments_lexer": "ipython3",
   "version": "3.8.5"
  }
 },
 "nbformat": 4,
 "nbformat_minor": 4
}
