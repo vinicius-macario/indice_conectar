{
 "cells": [
  {
   "cell_type": "code",
   "execution_count": 1,
   "metadata": {},
   "outputs": [],
   "source": [
    "import pandas as pd\n",
    "import pandas as np\n",
    "pd.options.display.float_format = '{:,.2f}'.format"
   ]
  },
  {
   "cell_type": "code",
   "execution_count": 2,
   "metadata": {},
   "outputs": [],
   "source": [
    "pasta = 'E:/Documentos/bases/indice_conectar/receita/'"
   ]
  },
  {
   "cell_type": "code",
   "execution_count": 3,
   "metadata": {},
   "outputs": [],
   "source": [
    "## 2017"
   ]
  },
  {
   "cell_type": "code",
   "execution_count": 4,
   "metadata": {},
   "outputs": [],
   "source": [
    "ano = 'finbra_MUN_ReceitasOrcamentarias(AnexoI-C)_2017/'"
   ]
  },
  {
   "cell_type": "code",
   "execution_count": 5,
   "metadata": {},
   "outputs": [],
   "source": [
    "base_2017 = pd.read_csv(pasta + ano + 'finbra.csv', sep=';', encoding='latin-1', skiprows=3, decimal=',')"
   ]
  },
  {
   "cell_type": "code",
   "execution_count": 6,
   "metadata": {},
   "outputs": [],
   "source": [
    "base_2017['Valor'] = base_2017['Valor'].astype(float)"
   ]
  },
  {
   "cell_type": "code",
   "execution_count": 7,
   "metadata": {},
   "outputs": [],
   "source": [
    "#base.Conta.unique()\n",
    "base_2017 = base_2017[base_2017['Conta'] == '1.0.0.0.00.00.00 - Receitas Correntes'].sort_values('Cod.IBGE')"
   ]
  },
  {
   "cell_type": "code",
   "execution_count": 8,
   "metadata": {},
   "outputs": [],
   "source": [
    "aux = pd.pivot_table(base_2017, index=['Cod.IBGE'], columns=['Coluna'], values=['Valor'])"
   ]
  },
  {
   "cell_type": "code",
   "execution_count": 9,
   "metadata": {},
   "outputs": [],
   "source": [
    "aux.reset_index(drop=False, inplace=True)\n",
    "aux.columns = aux.columns.droplevel()\n",
    "aux.rename(columns={'': 'COD'}, inplace=True)"
   ]
  },
  {
   "cell_type": "code",
   "execution_count": 10,
   "metadata": {},
   "outputs": [],
   "source": [
    "aux.fillna(0, inplace=True)"
   ]
  },
  {
   "cell_type": "code",
   "execution_count": 11,
   "metadata": {},
   "outputs": [],
   "source": [
    "aux['rc_2017'] = aux['Receitas Brutas Realizadas'] - (\n",
    "    aux['Deduções - FUNDEB'] + aux['Deduções - Transferências Constitucionais'] + aux['Outras Deduções da Receita'])"
   ]
  },
  {
   "cell_type": "code",
   "execution_count": 12,
   "metadata": {},
   "outputs": [],
   "source": [
    "base_rc = aux[['COD', 'rc_2017']].copy()"
   ]
  },
  {
   "cell_type": "code",
   "execution_count": 13,
   "metadata": {},
   "outputs": [],
   "source": [
    "## 2018\n",
    "ano = 'finbra_MUN_ReceitasOrcamentarias(AnexoI-C)_2018/'\n",
    "\n",
    "base = pd.read_csv(pasta + ano + 'finbra.csv', sep=';', encoding='latin-1', skiprows=3, decimal=',')"
   ]
  },
  {
   "cell_type": "code",
   "execution_count": 14,
   "metadata": {},
   "outputs": [],
   "source": [
    "base['Valor'] = base['Valor'].astype(float)\n",
    "base = base[base['Conta'] == '1.0.0.0.00.0.0 - Receitas Correntes'].sort_values('Cod.IBGE')"
   ]
  },
  {
   "cell_type": "code",
   "execution_count": 15,
   "metadata": {},
   "outputs": [],
   "source": [
    "aux = pd.pivot_table(base, index=['Cod.IBGE'], columns=['Coluna'], values=['Valor'])\n",
    "\n",
    "aux.reset_index(drop=False, inplace=True)\n",
    "aux.columns = aux.columns.droplevel()\n",
    "aux.rename(columns={'': 'COD'}, inplace=True)\n",
    "aux.fillna(0, inplace=True)\n",
    "\n",
    "aux['rc_2018'] = aux['Receitas Brutas Realizadas'] - (\n",
    "    aux['Deduções - FUNDEB'] + aux['Deduções - Transferências Constitucionais'] + aux['Outras Deduções da Receita'])\n",
    "\n",
    "base_2018 = aux[['COD', 'rc_2018']].copy()"
   ]
  },
  {
   "cell_type": "code",
   "execution_count": 16,
   "metadata": {},
   "outputs": [],
   "source": [
    "base_rc = pd.merge(base_rc, base_2018, how='outer')"
   ]
  },
  {
   "cell_type": "code",
   "execution_count": 17,
   "metadata": {},
   "outputs": [],
   "source": [
    "## 2019\n",
    "ano = 'finbra_MUN_ReceitasOrcamentarias(AnexoI-C)_2019/'\n",
    "\n",
    "base = pd.read_csv(pasta + ano + 'finbra.csv', sep=';', encoding='latin-1', skiprows=3, decimal=',')"
   ]
  },
  {
   "cell_type": "code",
   "execution_count": 18,
   "metadata": {},
   "outputs": [],
   "source": [
    "base['Valor'] = base['Valor'].astype(float)\n",
    "base = base[base['Conta'] == '1.0.0.0.00.0.0 - Receitas Correntes'].sort_values('Cod.IBGE')"
   ]
  },
  {
   "cell_type": "code",
   "execution_count": 19,
   "metadata": {},
   "outputs": [],
   "source": [
    "aux = pd.pivot_table(base, index=['Cod.IBGE'], columns=['Coluna'], values=['Valor'])\n",
    "\n",
    "aux.reset_index(drop=False, inplace=True)\n",
    "aux.columns = aux.columns.droplevel()\n",
    "aux.rename(columns={'': 'COD'}, inplace=True)\n",
    "aux.fillna(0, inplace=True)\n",
    "\n",
    "aux['rc_2019'] = aux['Receitas Brutas Realizadas'] - (\n",
    "    aux['Deduções - FUNDEB'] + aux['Deduções - Transferências Constitucionais'] + aux['Outras Deduções da Receita'])\n",
    "\n",
    "base_2019 = aux[['COD', 'rc_2019']].copy()"
   ]
  },
  {
   "cell_type": "code",
   "execution_count": 20,
   "metadata": {},
   "outputs": [],
   "source": [
    "base_rc = pd.merge(base_rc, base_2019, how='outer')"
   ]
  },
  {
   "cell_type": "code",
   "execution_count": 21,
   "metadata": {},
   "outputs": [],
   "source": [
    "## 2020\n",
    "ano = 'finbra_MUN_ReceitasOrcamentarias(AnexoI-C)_2020/'\n",
    "\n",
    "base = pd.read_csv(pasta + ano + 'finbra.csv', sep=';', encoding='latin-1', skiprows=3, decimal=',')"
   ]
  },
  {
   "cell_type": "code",
   "execution_count": 22,
   "metadata": {},
   "outputs": [],
   "source": [
    "base['Valor'] = base['Valor'].astype(float)\n",
    "base = base[base['Conta'] == '1.0.0.0.00.0.0 - Receitas Correntes'].sort_values('Cod.IBGE')"
   ]
  },
  {
   "cell_type": "code",
   "execution_count": 23,
   "metadata": {},
   "outputs": [],
   "source": [
    "aux = pd.pivot_table(base, index=['Cod.IBGE'], columns=['Coluna'], values=['Valor'])\n",
    "\n",
    "aux.reset_index(drop=False, inplace=True)\n",
    "aux.columns = aux.columns.droplevel()\n",
    "aux.rename(columns={'': 'COD'}, inplace=True)\n",
    "aux.fillna(0, inplace=True)\n",
    "\n",
    "aux['rc_2020'] = aux['Receitas Brutas Realizadas'] - (\n",
    "    aux['Deduções - FUNDEB'] + aux['Deduções - Transferências Constitucionais'] + aux['Outras Deduções da Receita'])\n",
    "\n",
    "base_2020 = aux[['COD', 'rc_2020']].copy()"
   ]
  },
  {
   "cell_type": "code",
   "execution_count": 24,
   "metadata": {},
   "outputs": [],
   "source": [
    "base_rc = pd.merge(base_rc, base_2020, how='outer')"
   ]
  },
  {
   "cell_type": "code",
   "execution_count": 25,
   "metadata": {},
   "outputs": [],
   "source": [
    "base_rc.sort_values('COD', inplace=True)"
   ]
  },
  {
   "cell_type": "code",
   "execution_count": 26,
   "metadata": {},
   "outputs": [],
   "source": [
    "base_rc.to_excel(r'E:\\Documentos\\bases\\indice_conectar\\receita\\receita.xlsx', index=False)"
   ]
  }
 ],
 "metadata": {
  "kernelspec": {
   "display_name": "Python 3",
   "language": "python",
   "name": "python3"
  },
  "language_info": {
   "codemirror_mode": {
    "name": "ipython",
    "version": 3
   },
   "file_extension": ".py",
   "mimetype": "text/x-python",
   "name": "python",
   "nbconvert_exporter": "python",
   "pygments_lexer": "ipython3",
   "version": "3.8.5"
  }
 },
 "nbformat": 4,
 "nbformat_minor": 4
}
